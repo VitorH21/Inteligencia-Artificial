{
  "nbformat": 4,
  "nbformat_minor": 0,
  "metadata": {
    "colab": {
      "name": "Welcome To Colaboratory",
      "version": "0.3.2",
      "provenance": [],
      "collapsed_sections": [],
      "toc_visible": true,
      "include_colab_link": true
    },
    "kernelspec": {
      "display_name": "Python 3",
      "name": "python3"
    }
  },
  "cells": [
    {
      "cell_type": "markdown",
      "metadata": {
        "id": "view-in-github",
        "colab_type": "text"
      },
      "source": [
        "<a href=\"https://colab.research.google.com/github/VitorH21/Inteligencia-Artificial/blob/master/AtividadeIA.ipynb\" target=\"_parent\"><img src=\"https://colab.research.google.com/assets/colab-badge.svg\" alt=\"Open In Colab\"/></a>"
      ]
    },
    {
      "cell_type": "markdown",
      "metadata": {
        "colab_type": "text",
        "id": "5fCEDCU_qrC0"
      },
      "source": [
        "<p><img alt=\"Colaboratory logo\" height=\"45px\" src=\"https://colab.research.google.com/img/colab_favicon.ico\" align=\"left\" hspace=\"10px\" vspace=\"0px\"></p>\n",
        "\n",
        "<h1>Welcome to Colaboratory!</h1>\n",
        "\n",
        "\n",
        "Colaboratory is a free Jupyter notebook environment that requires no setup and runs entirely in the cloud.\n",
        "\n",
        "With Colaboratory you can write and execute code, save and share your analyses, and access powerful computing resources, all for free from your browser."
      ]
    },
    {
      "cell_type": "code",
      "metadata": {
        "id": "pH3H4qhcaPW-",
        "colab_type": "code",
        "colab": {}
      },
      "source": [
        "import pandas as pd # Importar bibliotecas do Pandas\n",
        "from google.colab import files"
      ],
      "execution_count": 0,
      "outputs": []
    },
    {
      "cell_type": "code",
      "metadata": {
        "id": "ta5jDDcdG4wb",
        "colab_type": "code",
        "colab": {}
      },
      "source": [
        "uploaded = files.upload() # Selecionar o arquivo para ser trabalhado"
      ],
      "execution_count": 0,
      "outputs": []
    },
    {
      "cell_type": "code",
      "metadata": {
        "id": "Lv87ULN0JYHJ",
        "colab_type": "code",
        "colab": {}
      },
      "source": [
        "import io"
      ],
      "execution_count": 0,
      "outputs": []
    },
    {
      "cell_type": "code",
      "metadata": {
        "id": "pMsPACGhLXua",
        "colab_type": "code",
        "colab": {}
      },
      "source": [
        "train_df = pd.read_csv(io.StringIO(uploaded['train.csv'].decode('utf-8'))) # Faz a leitura do arquivo\n",
        "train_df.head() # exibe os dados do arquivo"
      ],
      "execution_count": 0,
      "outputs": []
    },
    {
      "cell_type": "code",
      "metadata": {
        "id": "USehSVGYKnoo",
        "colab_type": "code",
        "colab": {}
      },
      "source": [
        "train_df.tail() # Exibe as últimas posições do arquivo"
      ],
      "execution_count": 0,
      "outputs": []
    },
    {
      "cell_type": "code",
      "metadata": {
        "id": "VeJsV_UxMHyB",
        "colab_type": "code",
        "colab": {}
      },
      "source": [
        "train_df[\"Name\"].apply(lambda x: x[:3]).head(10) # exibe a primeira letras passado na expressão lambda"
      ],
      "execution_count": 0,
      "outputs": []
    },
    {
      "cell_type": "code",
      "metadata": {
        "id": "DX7pIulYNFa6",
        "colab_type": "code",
        "colab": {}
      },
      "source": [
        "train_df.drop([0,1]).head(n = 10) # Remove Temporariamente as linhas da tabela"
      ],
      "execution_count": 0,
      "outputs": []
    },
    {
      "cell_type": "code",
      "metadata": {
        "id": "DJL-DLBjNvMH",
        "colab_type": "code",
        "colab": {}
      },
      "source": [
        "train_df.drop('Age', axis = 1).head(10) # Remove a coluna da tabela Temporariamente"
      ],
      "execution_count": 0,
      "outputs": []
    },
    {
      "cell_type": "code",
      "metadata": {
        "id": "Ba3iziAzOZCI",
        "colab_type": "code",
        "colab": {}
      },
      "source": [
        "train_df.shape # Exibir o número de linhas e colunas"
      ],
      "execution_count": 0,
      "outputs": []
    },
    {
      "cell_type": "code",
      "metadata": {
        "id": "vrCqF-hxPJzq",
        "colab_type": "code",
        "colab": {}
      },
      "source": [
        "train_df.index # Exibe o número que inicia o arquivo e o que termina o arquivo"
      ],
      "execution_count": 0,
      "outputs": []
    },
    {
      "cell_type": "code",
      "metadata": {
        "id": "poSvNRS5PuFI",
        "colab_type": "code",
        "colab": {}
      },
      "source": [
        "train_df.columns # Exibe o nome das colunas presentes no arquivo"
      ],
      "execution_count": 0,
      "outputs": []
    },
    {
      "cell_type": "code",
      "metadata": {
        "id": "lghchIbBQsie",
        "colab_type": "code",
        "colab": {}
      },
      "source": [
        "train_df.describe() # Resumo estatístico do DataFrame, com quartis, mediana"
      ],
      "execution_count": 0,
      "outputs": []
    },
    {
      "cell_type": "code",
      "metadata": {
        "id": "I4m5dukiRScv",
        "colab_type": "code",
        "colab": {}
      },
      "source": [
        "train_df.min() # dados Mínimos"
      ],
      "execution_count": 0,
      "outputs": []
    },
    {
      "cell_type": "code",
      "metadata": {
        "id": "lKW9CVC3R9Wn",
        "colab_type": "code",
        "colab": {}
      },
      "source": [
        "train_df.max() # dados Máximos"
      ],
      "execution_count": 0,
      "outputs": []
    },
    {
      "cell_type": "code",
      "metadata": {
        "id": "Az5ZEeVGSJP0",
        "colab_type": "code",
        "colab": {}
      },
      "source": [
        "train_df.mean() # Média dos valores"
      ],
      "execution_count": 0,
      "outputs": []
    },
    {
      "cell_type": "code",
      "metadata": {
        "id": "3xoJqy0HSeEo",
        "colab_type": "code",
        "colab": {}
      },
      "source": [
        "train_df.count() # Exibe o número de dados não nulos"
      ],
      "execution_count": 0,
      "outputs": []
    },
    {
      "cell_type": "code",
      "metadata": {
        "id": "1CH0QK8fSmsy",
        "colab_type": "code",
        "colab": {}
      },
      "source": [
        "train_df.std() # Dados da descrição"
      ],
      "execution_count": 0,
      "outputs": []
    },
    {
      "cell_type": "code",
      "metadata": {
        "id": "itvOtMo1TlCB",
        "colab_type": "code",
        "colab": {}
      },
      "source": [
        "train_df[train_df['PassengerId'] % 2 == 0].head(5) # Exibe dados com número pares"
      ],
      "execution_count": 0,
      "outputs": []
    },
    {
      "cell_type": "code",
      "metadata": {
        "id": "-oO3pm2mT3V7",
        "colab_type": "code",
        "colab": {}
      },
      "source": [
        "train_df.loc[1, 'Name'] # Exibe a informação da tabela de acordo com o index e a coluna"
      ],
      "execution_count": 0,
      "outputs": []
    },
    {
      "cell_type": "code",
      "metadata": {
        "id": "OvWq2lQEuU4f",
        "colab_type": "code",
        "colab": {}
      },
      "source": [
        "train_df.loc[10] # Exibe dados específicos"
      ],
      "execution_count": 0,
      "outputs": []
    },
    {
      "cell_type": "code",
      "metadata": {
        "id": "F8gw3tDyUiJv",
        "colab_type": "code",
        "colab": {}
      },
      "source": [
        "print(train_df.drop(columns = ['SibSp'])) # Apaga definitivamente a coluna desejada, pórem não altera o arquivo original"
      ],
      "execution_count": 0,
      "outputs": []
    },
    {
      "cell_type": "code",
      "metadata": {
        "id": "sY1z9rX7VCWL",
        "colab_type": "code",
        "colab": {}
      },
      "source": [
        "train_df.isnull().any() # Retorna as colunas inexistente"
      ],
      "execution_count": 0,
      "outputs": []
    },
    {
      "cell_type": "code",
      "metadata": {
        "id": "20Lc1OW8YSwi",
        "colab_type": "code",
        "colab": {}
      },
      "source": [
        "train_df.notnull().all() # Retorna as colunas completas"
      ],
      "execution_count": 0,
      "outputs": []
    },
    {
      "cell_type": "code",
      "metadata": {
        "id": "LzpPggAzY4D2",
        "colab_type": "code",
        "colab": {}
      },
      "source": [
        "train_df.dropna().head(10) # Remove do DataFrame qualquer linha que tenha pelo menos um NaN"
      ],
      "execution_count": 0,
      "outputs": []
    },
    {
      "cell_type": "code",
      "metadata": {
        "id": "zb6Z-NoqZrXe",
        "colab_type": "code",
        "colab": {}
      },
      "source": [
        "train_df.dropna(axis = 1).head(10) # Remove do DataFrame qualquer coluna que tenha pelo menos um NaN"
      ],
      "execution_count": 0,
      "outputs": []
    },
    {
      "cell_type": "code",
      "metadata": {
        "id": "aiQ07XQiaDu3",
        "colab_type": "code",
        "colab": {}
      },
      "source": [
        "train_df.duplicated(\"Embarked\").head(10) # Remove as duplicatas"
      ],
      "execution_count": 0,
      "outputs": []
    },
    {
      "cell_type": "code",
      "metadata": {
        "id": "OPsR2isaa4v4",
        "colab_type": "code",
        "colab": {}
      },
      "source": [
        "train_df.reindex(list(reversed(range(891)))).head(2) # Inverte a ordem do DataFrame"
      ],
      "execution_count": 0,
      "outputs": []
    },
    {
      "cell_type": "code",
      "metadata": {
        "id": "RD4G8BSBa7FW",
        "colab_type": "code",
        "colab": {}
      },
      "source": [
        "train_df.Age.head(n = 10) # mostra coluna especifica"
      ],
      "execution_count": 0,
      "outputs": []
    },
    {
      "cell_type": "code",
      "metadata": {
        "id": "bIw1o7B9a7tW",
        "colab_type": "code",
        "colab": {}
      },
      "source": [
        "train_df[['Age', 'Sex', 'Pclass',]].head(10) # Mostra varias colunas especificas"
      ],
      "execution_count": 0,
      "outputs": []
    },
    {
      "cell_type": "code",
      "metadata": {
        "id": "UjaxJ4B1wuex",
        "colab_type": "code",
        "colab": {}
      },
      "source": [
        "train_df[train_df.Sex == \"male\"].head(10) # Busca por Coluna"
      ],
      "execution_count": 0,
      "outputs": []
    },
    {
      "cell_type": "code",
      "metadata": {
        "id": "ddrXZbTzcsgb",
        "colab_type": "code",
        "colab": {}
      },
      "source": [
        "train_df[(train_df['Age'] > 40.0)].head(10) # detalhar caracteristicas da tabela"
      ],
      "execution_count": 0,
      "outputs": []
    },
    {
      "cell_type": "code",
      "metadata": {
        "id": "Q21rKJnndpci",
        "colab_type": "code",
        "colab": {}
      },
      "source": [
        "train_df.dtypes # Mostra os tipos de dados do arquivo"
      ],
      "execution_count": 0,
      "outputs": []
    }
  ]
}