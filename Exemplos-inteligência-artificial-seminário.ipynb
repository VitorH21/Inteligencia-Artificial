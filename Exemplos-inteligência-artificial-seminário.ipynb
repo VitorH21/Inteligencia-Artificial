{
  "nbformat": 4,
  "nbformat_minor": 0,
  "metadata": {
    "colab": {
      "name": "Welcome To Colaboratory",
      "version": "0.3.2",
      "provenance": [],
      "collapsed_sections": [],
      "include_colab_link": true
    },
    "kernelspec": {
      "display_name": "Python 3",
      "name": "python3"
    }
  },
  "cells": [
    {
      "cell_type": "markdown",
      "metadata": {
        "id": "view-in-github",
        "colab_type": "text"
      },
      "source": [
        "<a href=\"https://colab.research.google.com/github/VitorH21/Inteligencia-Artificial/blob/master/Exemplos-intelig%C3%AAncia-artificial-semin%C3%A1rio.ipynb\" target=\"_parent\"><img src=\"https://colab.research.google.com/assets/colab-badge.svg\" alt=\"Open In Colab\"/></a>"
      ]
    },
    {
      "cell_type": "code",
      "metadata": {
        "id": "vbwdyiR8Fgz8",
        "colab_type": "code",
        "colab": {}
      },
      "source": [
        "import pandas as pd"
      ],
      "execution_count": 0,
      "outputs": []
    },
    {
      "cell_type": "code",
      "metadata": {
        "id": "xLU9y5fUIU41",
        "colab_type": "code",
        "colab": {}
      },
      "source": [
        "base = pd.read_csv(\"credit-data.csv\")\n",
        "previsores = base.iloc[:,0:4].values\n",
        "classe = base.iloc[:,4].values"
      ],
      "execution_count": 0,
      "outputs": []
    },
    {
      "cell_type": "code",
      "metadata": {
        "id": "Su9dlX-PJGA2",
        "colab_type": "code",
        "colab": {}
      },
      "source": [
        "base"
      ],
      "execution_count": 0,
      "outputs": []
    },
    {
      "cell_type": "code",
      "metadata": {
        "id": "_nQb5pgsJeUK",
        "colab_type": "code",
        "colab": {}
      },
      "source": [
        "from sklearn.preprocessing import LabelEncoder\n",
        "labelencoder = LabelEncoder()\n",
        "previsores[:,0] = labelencoder.fit_transform(previsores[:,0])\n",
        "previsores[:,1] = labelencoder.fit_transform(previsores[:,1])\n",
        "previsores[:,2] = labelencoder.fit_transform(previsores[:,2])\n",
        "previsores[:,3] = labelencoder.fit_transform(previsores[:,3])"
      ],
      "execution_count": 0,
      "outputs": []
    },
    {
      "cell_type": "code",
      "metadata": {
        "id": "vQI6pAM4KRO_",
        "colab_type": "code",
        "outputId": "df8ec4bb-f4c3-4ac9-c334-780f63bb5ef9",
        "colab": {
          "base_uri": "https://localhost:8080/",
          "height": 34
        }
      },
      "source": [
        "from sklearn.tree import DecisionTreeClassifier, export\n",
        "classificador = DecisionTreeClassifier(criterion = \"entropy\")\n",
        "classificador.fit(previsores, classe)\n",
        "print(classificador.feature_importances_)\n",
        "\n",
        "#História boa, dívida boa alta, garantias nenhuma, renda > 25\n",
        "#História ruim, dívida alta, garantias adequada, renda < 15"
      ],
      "execution_count": 6,
      "outputs": [
        {
          "output_type": "stream",
          "text": [
            "[0.00410987 0.20696462 0.39636275 0.39256276]\n"
          ],
          "name": "stdout"
        }
      ]
    },
    {
      "cell_type": "code",
      "metadata": {
        "id": "73IM5eiaKXY9",
        "colab_type": "code",
        "colab": {}
      },
      "source": [
        "export.export_graphviz(classificador, out_file = \"arvore.dot\", feature_names = [\"historia\", \"divida\", \"garantias\", \"renda\"],\n",
        "                       class_names = [\"alto\", \"moderado\", \"baixo\"], filled = True, leaves_parallel=True)"
      ],
      "execution_count": 0,
      "outputs": []
    },
    {
      "cell_type": "code",
      "metadata": {
        "id": "qd8G2nBXNaRm",
        "colab_type": "code",
        "colab": {}
      },
      "source": [
        ""
      ],
      "execution_count": 0,
      "outputs": []
    }
  ]
}